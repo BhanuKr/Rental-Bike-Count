{
  "cells": [
    {
      "cell_type": "markdown",
      "metadata": {
        "id": "8M-ClByVDZiG"
      },
      "source": [
        "## Test if the mean of hourly bike rentals reduces if \"Snowfall\" is non zero in winter season. "
      ]
    },
    {
      "cell_type": "markdown",
      "metadata": {},
      "source": [
        "### Assumptions\n",
        "1. The population is approximately normally distributed.\n",
        "2. Sample observations were randomly drawn from a population.\n",
        "3. The samples are independent.\n",
        "\n",
        "\n",
        "\n"
      ]
    },
    {
      "cell_type": "markdown",
      "metadata": {},
      "source": [
        "### Hypothesis: <br>\n",
        "$H_0 = \\mu_1 = \\mu_2$ <br>\n",
        "$H_1 = \\mu_1 > \\mu_2$  --> $\\mu_1$ - population mean for zero snowfall, $\\mu_2$ - population mean for non zero snowfall  <br>"
      ]
    },
    {
      "cell_type": "markdown",
      "metadata": {},
      "source": [
        "### T-test used for hypothesis testing ."
      ]
    },
    {
      "cell_type": "code",
      "execution_count": null,
      "metadata": {},
      "outputs": [
        {
          "name": "stdout",
          "output_type": "stream",
          "text": [
            "t-statistic: 12.587491780039079\n",
            "p-value: 3.335926423244896e-33\n",
            "Reject null hypothesis\n"
          ]
        }
      ],
      "source": [
        "import numpy as np \n",
        "import pandas as pd\n",
        "import scipy.stats as stats\n",
        "\n",
        "data = pd.read_csv('SeoulBikeData.csv')\n",
        "data = data[data[\"Functioning Day\"]==\"Yes\"]\n",
        "data_winter = data[data[\"Seasons\"]==\"Winter\"]\n",
        "\n",
        "\n",
        "data_snowfall_0_rentedbike = data_winter[data_winter[\"Snowfall (cm)\"]==0][\"Rented Bike Count\"]\n",
        "data_snowfall_1_rentedbike = data_winter[data_winter[\"Snowfall (cm)\"]>0][\"Rented Bike Count\"]\n",
        "\n",
        "# using ttest_ind function to perform two-tailed test .\n",
        "t_stat, p_val = stats.ttest_ind(data_snowfall_0_rentedbike, data_snowfall_1_rentedbike, equal_var=False)\n",
        "print(\"t-statistic:\", t_stat)\n",
        "print(\"p-value:\", p_val)\n",
        "\n",
        "# taking alpha as 0.05 .\n",
        "# p_val less than 0.05 since it is one-tailed test .\n",
        "if p_val < 0.05:\n",
        "    print(\"Reject null hypothesis\")\n"
      ]
    },
    {
      "cell_type": "code",
      "execution_count": 2,
      "metadata": {},
      "outputs": [],
      "source": [
        "# calculating mean, std and number of data points for snowfall_0 and snowfall_1 for doing the calculations manually for ttest .\n",
        "\n",
        "snowfall_0_std = data_snowfall_0_rentedbike.std()\n",
        "snowfall_0_mean = data_snowfall_0_rentedbike.mean()\n",
        "snowfall_0_num = len(data_snowfall_0_rentedbike)\n",
        "\n",
        "snowfall_1_std = data_snowfall_1_rentedbike.std()\n",
        "snowfall_1_mean = data_snowfall_1_rentedbike.mean()\n",
        "snowfall_1_num = len(data_snowfall_1_rentedbike)\n"
      ]
    },
    {
      "cell_type": "markdown",
      "metadata": {},
      "source": [
        "### Two sample t-test Formula\n",
        "\n",
        "$t = \\frac{(\\overline{x}_1-\\overline{x}_2)-(\\mu_1-\\mu_2)}{\\sqrt{\\frac{S_1^2}{n_1}+\\frac{S_2^2}{n_2}}}$\n",
        "\n",
        "$\\overline{x}_1$ = sample mean of first sample <br>\n",
        "$\\overline{x}_2$ = sample mean of second sample<br>\n",
        "$\\mu_1$= Mean of first population<br>\n",
        "$\\mu_2$= Mean of second population<br>\n",
        "$S_1^2$= sample variance in first population<br>\n",
        "$S_2^2$= sample variance in second population<br>\n",
        "$n_1$= sample size of first group<br>\n",
        "$n_2$= sample size of second group<br>\n",
        "\n"
      ]
    },
    {
      "cell_type": "code",
      "execution_count": 3,
      "metadata": {},
      "outputs": [
        {
          "name": "stdout",
          "output_type": "stream",
          "text": [
            "t_value: 12.587491780039079, p_value: 3.335926423244896e-33\n",
            "Reject null hypothesis\n"
          ]
        }
      ],
      "source": [
        "# calculating t_value and p_value manually .\n",
        "\n",
        "sse = np.sqrt(snowfall_0_std**2/(snowfall_0_num)+snowfall_1_std**2/(snowfall_1_num))\n",
        "sample_mean_diff = snowfall_0_mean - snowfall_1_mean\n",
        "hypothesis = 0 \n",
        "\n",
        "a = snowfall_0_std**2/(snowfall_0_num)\n",
        "b = snowfall_1_std**2/(snowfall_1_num)\n",
        "\n",
        "dof = (a+b)**2/((a**2/(snowfall_0_num-1))+(b**2/(snowfall_1_num-1)))\n",
        "\n",
        "t_value = (sample_mean_diff - hypothesis)/sse\n",
        "p_value = stats.t.sf(np.abs(t_value),dof)*2\n",
        "print(f't_value: {t_value}, p_value: {p_value}')\n",
        "\n",
        "if p_val < 0.05:\n",
        "    print(\"Reject null hypothesis\")\n",
        "\n"
      ]
    },
    {
      "cell_type": "markdown",
      "metadata": {},
      "source": [
        "#### Hence mean of hourly bike rentals reduces if \"Snowfall\" is non zero in winter season by 95% confidence level."
      ]
    },
    {
      "cell_type": "markdown",
      "metadata": {
        "id": "sBEnJOO_DkW0"
      },
      "source": [
        "\n",
        "## Visualize the hourly non-zero rainfall distribution and identify four quartiles. Test if the mean hourly count of bike rentals in the four quartiles are different using 1 way ANOVA test."
      ]
    },
    {
      "cell_type": "markdown",
      "metadata": {},
      "source": [
        "## Assumptions for ANOVA\n",
        "1. The dependent variable is approximately normally distributed within each group.\n",
        "2. This assumption is more critical for smaller sample sizes.\n",
        "3. The samples are selected at random and should be independent of one another.\n",
        "4. All groups have equal standard deviations.\n",
        "5. Each data point should belong to one and only one group. There should be no overlap or sharing of data points between groups."
      ]
    },
    {
      "cell_type": "markdown",
      "metadata": {},
      "source": [
        "**Hypothesis involved:**\n",
        "The one-way ANOVA has the below given null and alternative hypotheses:\n",
        "\n",
        "$H_0$ (null hypothesis): μ1 = μ2 = μ3 = … = μk (It implies that the means of all the population(four quartiles) are equal. <br>\n",
        "$H_1$ (alternate hypothesis): It states that there will be at least one population(quartile) mean that differs from the rest. <br>"
      ]
    },
    {
      "cell_type": "code",
      "execution_count": 4,
      "metadata": {},
      "outputs": [],
      "source": [
        "from scipy.stats import f_oneway\n",
        "\n",
        "df = data\n",
        "non_zero_rainfall_data = df[df['Rainfall(mm)'] > 0]\n",
        "\n",
        "\n"
      ]
    },
    {
      "cell_type": "code",
      "execution_count": 5,
      "metadata": {},
      "outputs": [
        {
          "name": "stdout",
          "output_type": "stream",
          "text": [
            "F-statistic: 12.725206168514127, p-value: 4.9378625332842514e-08\n",
            "since p_value = 4.9378625332842514e-08 < 0.05 , Reject null hypothesis\n"
          ]
        },
        {
          "name": "stderr",
          "output_type": "stream",
          "text": [
            "C:\\Users\\Bhanu Kumar\\AppData\\Local\\Temp\\ipykernel_13680\\1991026640.py:2: SettingWithCopyWarning: \n",
            "A value is trying to be set on a copy of a slice from a DataFrame.\n",
            "Try using .loc[row_indexer,col_indexer] = value instead\n",
            "\n",
            "See the caveats in the documentation: https://pandas.pydata.org/pandas-docs/stable/user_guide/indexing.html#returning-a-view-versus-a-copy\n",
            "  non_zero_rainfall_data['Rainfall_quartile'] = quartiles\n"
          ]
        }
      ],
      "source": [
        "quartiles = pd.qcut(non_zero_rainfall_data['Rainfall(mm)'], q=4, labels=False) \n",
        "non_zero_rainfall_data['Rainfall_quartile'] = quartiles\n",
        "\n",
        "# Group data by quartile\n",
        "grouped = non_zero_rainfall_data.groupby('Rainfall_quartile')['Rented Bike Count']\n",
        "group_0 = grouped.get_group(0)\n",
        "group_1 = grouped.get_group(1)\n",
        "group_2 = grouped.get_group(2)\n",
        "group_3 = grouped.get_group(3)\n",
        "\n",
        "# perform one way ANOVA test using f_oneway function .\n",
        "f_statistic, p_value = f_oneway(group_0, group_1, group_2, group_3)\n",
        "print(f'F-statistic: {f_statistic}, p-value: {p_value}')\n",
        "\n",
        "if p_value < 0.05:\n",
        "    print(\"since p_value = {} < 0.05 , Reject null hypothesis\".format(p_value))\n",
        "\n"
      ]
    },
    {
      "cell_type": "code",
      "execution_count": 6,
      "metadata": {},
      "outputs": [
        {
          "name": "stdout",
          "output_type": "stream",
          "text": [
            "since p_value = 4.9378625332842514e-08 < 0.05 , Reject null hypothesis\n"
          ]
        }
      ],
      "source": [
        "# find f_stats and p_value manually .\n",
        "group_0_mean = group_0.mean()\n",
        "group_1_mean = group_1.mean()\n",
        "group_2_mean = group_2.mean()\n",
        "group_3_mean = group_3.mean()\n",
        "\n",
        "total_mean = non_zero_rainfall_data['Rented Bike Count'].mean()\n",
        "\n",
        "SSB = len(group_0)*(group_0_mean-total_mean)**2 + len(group_1)*(group_1_mean-total_mean)**2 + len(group_2)*(group_2_mean-total_mean)**2 + len(group_3)*(group_3_mean-total_mean)**2\n",
        "\n",
        "SSW = 0\n",
        "for i in range(4):\n",
        "    group = grouped.get_group(i)\n",
        "    SSW += sum((group - group.mean())**2)\n",
        "\n",
        "\n",
        "k = 4\n",
        "N = len(non_zero_rainfall_data)\n",
        "dfn = k-1\n",
        "dfd = N-k\n",
        "\n",
        "\n",
        "f_value = (SSB/dfn)/(SSW/dfd)\n",
        "p_value = stats.f.sf(f_value,dfn,dfd)\n",
        "\n",
        "\n",
        "if p_value < 0.05:\n",
        "    print(\"since p_value = {} < 0.05 , Reject null hypothesis\".format(p_value))\n",
        "\n",
        "\n"
      ]
    },
    {
      "cell_type": "markdown",
      "metadata": {},
      "source": [
        "#### Hence mean hourly count of bike rentals in at least one quartile differs from the rest by 95% confidence level."
      ]
    },
    {
      "cell_type": "markdown",
      "metadata": {
        "id": "fZUtrgSqDoLL"
      },
      "source": [
        "\n",
        "## Visualize the average hourly bike rentals in Summer Season and Spring Season. Identify if the two distributions are different using Chi-squared test."
      ]
    },
    {
      "cell_type": "markdown",
      "metadata": {},
      "source": [
        "### Hypothesis: <br>\n",
        "$H_0$ = Distro_1 = Distro_2 <br>\n",
        "$H_1$ = Distro_1 $\\neq$ Distro_2   --> Distro_1 - Distribution of Summer Season, Distro_2 - Distribution of Spring Season  <br>"
      ]
    },
    {
      "cell_type": "markdown",
      "metadata": {},
      "source": [
        "## Assumptions\n",
        "\n",
        "1 Population Distribution is approximately normal.<br>\n",
        "2. The samples are independent.<br>\n",
        "3. The samples are randomly drawn from the population.<br>"
      ]
    },
    {
      "cell_type": "code",
      "execution_count": null,
      "metadata": {},
      "outputs": [
        {
          "data": {
            "text/plain": [
              "<Axes: xlabel='Hour'>"
            ]
          },
          "execution_count": 7,
          "metadata": {},
          "output_type": "execute_result"
        },
        {
          "data": {
            "image/png": "[encoded data removed]",
            "text/plain": [
              "<Figure size 640x480 with 1 Axes>"
            ]
          },
          "metadata": {},
          "output_type": "display_data"
        }
      ],
      "source": [
        "data_spring = data[data[\"Seasons\"]==\"Spring\"]\n",
        "data_summer = data[data[\"Seasons\"]==\"Summer\"]\n",
        "\n",
        "data_summer_rentedbike = data_summer[\"Rented Bike Count\"]\n",
        "data_spring_rentedbike = data_spring[\"Rented Bike Count\"]\n",
        "data_summer_rentedbike = data_summer_rentedbike.groupby(data_summer[\"Hour\"]).mean()\n",
        "data_spring_rentedbike = data_spring_rentedbike.groupby(data_spring[\"Hour\"]).mean()\n",
        "data_summer_rentedbike.plot()\n",
        "data_spring_rentedbike.plot()"
      ]
    },
    {
      "cell_type": "code",
      "execution_count": 8,
      "metadata": {},
      "outputs": [],
      "source": [
        "# Create a contingency table\n",
        "contingency_table = pd.DataFrame({\n",
        "    'Summer': data_summer_rentedbike,\n",
        "    'Spring': data_spring_rentedbike\n",
        "}, index=data_summer_rentedbike.index)\n",
        "contingency_table[\"Summer\"] = contingency_table[\"Summer\"]/contingency_table[\"Summer\"].sum()\n",
        "contingency_table[\"Spring\"] = contingency_table[\"Spring\"]/contingency_table[\"Spring\"].sum()\n"
      ]
    },
    {
      "cell_type": "code",
      "execution_count": 9,
      "metadata": {},
      "outputs": [
        {
          "name": "stdout",
          "output_type": "stream",
          "text": [
            "Chi2-statistic: 0.05291955549018908, p-value: 1.0\n"
          ]
        }
      ],
      "source": [
        "from scipy.stats import chisquare\n",
        "\n",
        "# Perform the Chi-squared test for goodness of fit .\n",
        "chi2_stat, p_value = chisquare(contingency_table[\"Summer\"], f_exp=contingency_table[\"Spring\"])\n",
        "print(f'Chi2-statistic: {chi2_stat}, p-value: {p_value}')\n"
      ]
    },
    {
      "cell_type": "code",
      "execution_count": 10,
      "metadata": {},
      "outputs": [
        {
          "data": {
            "text/plain": [
              "1.0"
            ]
          },
          "execution_count": 10,
          "metadata": {},
          "output_type": "execute_result"
        }
      ],
      "source": [
        "### get the p value from the coningency table manually .\n",
        "\n",
        "# Calculate the chi-squared statistic\n",
        "chi_squared = 0\n",
        "for i in contingency_table.index:\n",
        "    chi_squared += ((contingency_table[\"Summer\"][i] - contingency_table[\"Spring\"][i])**2)/contingency_table[\"Spring\"][i]\n",
        "\n",
        "    \n",
        "chi_squared\n",
        "\n",
        "# Calculate the degrees of freedom\n",
        "\n",
        "dof = (24-1)*(2-1)\n",
        "dof\n",
        "\n",
        "# Calculate the p-value\n",
        "p_value = 1 - stats.chi2.cdf(chi_squared, dof)\n",
        "p_value\n",
        "\n",
        "\n"
      ]
    },
    {
      "cell_type": "markdown",
      "metadata": {},
      "source": [
        "#### Since p_value is greater than 0.05 , we fail to reject the null hypothesis .Hence we cannot say that two distro are not same by 95% confidence level ."
      ]
    }
  ],
  "metadata": {
    "colab": {
      "provenance": []
    },
    "kernelspec": {
      "display_name": "Python 3",
      "name": "python3"
    },
    "language_info": {
      "codemirror_mode": {
        "name": "ipython",
        "version": 3
      },
      "file_extension": ".py",
      "mimetype": "text/x-python",
      "name": "python",
      "nbconvert_exporter": "python",
      "pygments_lexer": "ipython3",
      "version": "3.10.8"
    },
    "nteract": {
      "version": "nteract-front-end@1.0.0"
    }
  },
  "nbformat": 4,
  "nbformat_minor": 0
}
